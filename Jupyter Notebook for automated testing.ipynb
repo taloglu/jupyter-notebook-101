{
 "cells": [
  {
   "cell_type": "markdown",
   "metadata": {
    "ExecuteTime": {
     "end_time": "2018-08-23T09:23:46.606376Z",
     "start_time": "2018-08-23T09:23:46.601548Z"
    }
   },
   "source": [
    "https://www.thoughtworks.com/radar/techniques/jupyter-for-automated-testing\n",
    "> We're seeing some interesting reports of using Jupyter for automated testing. The ability to mix code, comments and output in the same document reminds us of FIT, FitNesse and Concordion. This flexible approach is particularly useful if your tests are data heavy or rely on some statistical analysis such as performance testing. Python provides all the power you need, but as tests grow in complexity, a way to manage suites of notebooks would be helpful.\n"
   ]
  },
  {
   "cell_type": "markdown",
   "metadata": {},
   "source": [
    "### Advantages\n",
    "* Clarity\n",
    "* UI Convenience\n",
    "* Scenario Reuse\n",
    "* Integration\n",
    "* Magic Functions"
   ]
  },
  {
   "cell_type": "code",
   "execution_count": null,
   "metadata": {
    "ExecuteTime": {
     "end_time": "2018-08-23T11:00:41.778715Z",
     "start_time": "2018-08-23T11:00:41.660907Z"
    }
   },
   "outputs": [],
   "source": [
    "from selenium import webdriver"
   ]
  },
  {
   "cell_type": "markdown",
   "metadata": {},
   "source": [
    "Creating the webdriver "
   ]
  },
  {
   "cell_type": "code",
   "execution_count": null,
   "metadata": {
    "ExecuteTime": {
     "end_time": "2018-08-23T11:00:43.908249Z",
     "start_time": "2018-08-23T11:00:42.202936Z"
    }
   },
   "outputs": [],
   "source": [
    "wd = webdriver.Chrome( '/Users/aloglu_tevfik/Downloads/chromedriver')"
   ]
  },
  {
   "cell_type": "markdown",
   "metadata": {},
   "source": [
    "Loading website"
   ]
  },
  {
   "cell_type": "code",
   "execution_count": null,
   "metadata": {
    "ExecuteTime": {
     "end_time": "2018-08-23T11:00:56.672916Z",
     "start_time": "2018-08-23T11:00:50.625530Z"
    }
   },
   "outputs": [],
   "source": [
    "wd.get('https://www.der-postillon.com/')"
   ]
  },
  {
   "cell_type": "code",
   "execution_count": null,
   "metadata": {
    "ExecuteTime": {
     "end_time": "2018-08-23T11:01:02.477167Z",
     "start_time": "2018-08-23T11:00:57.174074Z"
    }
   },
   "outputs": [],
   "source": [
    "sport_link = wd.find_element_by_link_text('Sport').click()"
   ]
  },
  {
   "cell_type": "code",
   "execution_count": null,
   "metadata": {
    "ExecuteTime": {
     "end_time": "2018-08-23T11:01:13.143892Z",
     "start_time": "2018-08-23T11:01:05.565045Z"
    }
   },
   "outputs": [],
   "source": [
    "more_button = wd.find_element_by_link_text('mehr...').click()"
   ]
  },
  {
   "cell_type": "markdown",
   "metadata": {},
   "source": [
    "Hover on the + button and click on print button"
   ]
  },
  {
   "cell_type": "code",
   "execution_count": null,
   "metadata": {
    "ExecuteTime": {
     "end_time": "2018-08-23T11:01:13.234831Z",
     "start_time": "2018-08-23T11:01:13.147138Z"
    }
   },
   "outputs": [],
   "source": [
    "from selenium.webdriver.common.action_chains import ActionChains\n",
    "element_to_hover_over = wd.find_element_by_class_name(\"at-svc-compact\")\n",
    "\n",
    "hover = ActionChains(wd).move_to_element(element_to_hover_over)\n",
    "hover.perform()"
   ]
  },
  {
   "cell_type": "code",
   "execution_count": null,
   "metadata": {
    "ExecuteTime": {
     "end_time": "2018-08-23T11:11:19.681576Z",
     "start_time": "2018-08-23T11:01:17.968490Z"
    }
   },
   "outputs": [],
   "source": [
    "print_button = wd.find_element_by_id('atic_print').click()"
   ]
  },
  {
   "cell_type": "code",
   "execution_count": null,
   "metadata": {},
   "outputs": [],
   "source": []
  }
 ],
 "metadata": {
  "kernelspec": {
   "display_name": "Python 3",
   "language": "python",
   "name": "python3"
  },
  "language_info": {
   "codemirror_mode": {
    "name": "ipython",
    "version": 3
   },
   "file_extension": ".py",
   "mimetype": "text/x-python",
   "name": "python",
   "nbconvert_exporter": "python",
   "pygments_lexer": "ipython3",
   "version": "3.6.5"
  }
 },
 "nbformat": 4,
 "nbformat_minor": 2
}
