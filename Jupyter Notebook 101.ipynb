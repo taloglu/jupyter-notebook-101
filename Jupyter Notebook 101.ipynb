{
 "cells": [
  {
   "cell_type": "markdown",
   "metadata": {},
   "source": [
    "# Here is the heading of this document\n",
    "\n",
    "This document aims to help users who want to understand Jupyter notebooks further. It is designed to explain different capabilities of the Jupyter notebooks from my personal experiences."
   ]
  },
  {
   "cell_type": "markdown",
   "metadata": {},
   "source": [
    "## Markdown notation"
   ]
  },
  {
   "cell_type": "markdown",
   "metadata": {},
   "source": [
    "\n",
    "### Most common formatting options\n",
    "\n",
    "**Unordered list:**\n",
    "\n",
    "* List view level 1\n",
    "    * List view level 2\n",
    "        * List view level 3\n",
    "        \n",
    "** Ordered list:**        \n",
    "1. First reason\n",
    "2. Second reason\n",
    "3. Third reason\n",
    "\n",
    "\n",
    "**Bold** text\n",
    "<br>\n",
    "*italic* text\n",
    "\n"
   ]
  },
  {
   "cell_type": "markdown",
   "metadata": {},
   "source": [
    "``` sql\n",
    "\n",
    "select x as b,\n",
    "       y as c,\n",
    "       sum(c) as d\n",
    "from database1\n",
    "\n",
    "```"
   ]
  },
  {
   "cell_type": "markdown",
   "metadata": {},
   "source": [
    "### Math symbols"
   ]
  },
  {
   "cell_type": "markdown",
   "metadata": {
    "ExecuteTime": {
     "end_time": "2018-08-20T14:53:35.813172Z",
     "start_time": "2018-08-20T14:53:35.808863Z"
    }
   },
   "source": [
    "$$c = \\sqrt{a^2 + b^2}$$"
   ]
  },
  {
   "cell_type": "code",
   "execution_count": null,
   "metadata": {
    "ExecuteTime": {
     "end_time": "2018-08-20T19:38:21.466824Z",
     "start_time": "2018-08-20T19:38:21.454086Z"
    }
   },
   "outputs": [],
   "source": [
    "from IPython.display import display, Math, Latex\n",
    "display(Math(r'F(t) = \\int_{-\\infty}^{\\infty} f(x) e^{2\\pi i k} dx'))"
   ]
  },
  {
   "cell_type": "code",
   "execution_count": null,
   "metadata": {
    "ExecuteTime": {
     "end_time": "2018-08-20T19:38:31.031271Z",
     "start_time": "2018-08-20T19:38:31.026683Z"
    }
   },
   "outputs": [],
   "source": [
    "%%latex\n",
    "\\begin{align}\n",
    "\\nabla \\cdot \\vec{\\mathbf{E}} & = 25 \\pi \\rho \\\\\n",
    "\\nabla \\times \\vec{\\mathbf{E}}\\, +\\, \\frac1c\\, \\frac{\\partial\\vec{\\mathbf{B}}}{\\partial t} & = \\vec{\\mathbf{0}} \\\\\n",
    "\\nabla \\cdot \\vec{\\mathbf{B}} & = 0\n",
    "\\end{align}"
   ]
  },
  {
   "cell_type": "markdown",
   "metadata": {},
   "source": [
    "## Reaching the terminal commands"
   ]
  },
  {
   "cell_type": "markdown",
   "metadata": {},
   "source": [
    "Use **!** to reach terminal in a code block."
   ]
  },
  {
   "cell_type": "markdown",
   "metadata": {},
   "source": [
    "Download a new library"
   ]
  },
  {
   "cell_type": "code",
   "execution_count": null,
   "metadata": {
    "ExecuteTime": {
     "end_time": "2018-08-20T14:59:10.533989Z",
     "start_time": "2018-08-20T14:59:08.979391Z"
    }
   },
   "outputs": [],
   "source": [
    "!pip install pandas"
   ]
  },
  {
   "cell_type": "markdown",
   "metadata": {},
   "source": [
    "Reach terminal functions and combine it with python functions"
   ]
  },
  {
   "cell_type": "code",
   "execution_count": null,
   "metadata": {
    "ExecuteTime": {
     "end_time": "2018-08-20T15:04:18.245027Z",
     "start_time": "2018-08-20T15:04:16.555133Z"
    }
   },
   "outputs": [],
   "source": [
    "for i in range(0,100,15):\n",
    "    # Print folders\n",
    "    !echo $i\n",
    "    # Create folders\n",
    "    !mkdir $i"
   ]
  },
  {
   "cell_type": "markdown",
   "metadata": {
    "ExecuteTime": {
     "end_time": "2018-08-20T14:59:00.870888Z",
     "start_time": "2018-08-20T14:59:00.865593Z"
    }
   },
   "source": [
    "Reach the file system"
   ]
  },
  {
   "cell_type": "code",
   "execution_count": null,
   "metadata": {
    "ExecuteTime": {
     "end_time": "2018-08-20T15:10:07.566728Z",
     "start_time": "2018-08-20T15:10:07.388450Z"
    }
   },
   "outputs": [],
   "source": [
    "!open ."
   ]
  },
  {
   "cell_type": "markdown",
   "metadata": {},
   "source": [
    "### Magic functions"
   ]
  },
  {
   "cell_type": "code",
   "execution_count": null,
   "metadata": {
    "ExecuteTime": {
     "end_time": "2018-08-20T18:52:22.079395Z",
     "start_time": "2018-08-20T18:52:17.793579Z"
    }
   },
   "outputs": [],
   "source": [
    "%%timeit\n",
    "for i in range(1, 100):\n",
    "    i = i + i*2"
   ]
  },
  {
   "cell_type": "code",
   "execution_count": null,
   "metadata": {
    "ExecuteTime": {
     "end_time": "2018-08-20T18:52:53.273750Z",
     "start_time": "2018-08-20T18:52:53.268433Z"
    }
   },
   "outputs": [],
   "source": [
    "%lsmagic"
   ]
  },
  {
   "cell_type": "code",
   "execution_count": null,
   "metadata": {
    "ExecuteTime": {
     "end_time": "2018-08-20T18:54:01.662832Z",
     "start_time": "2018-08-20T18:54:01.658174Z"
    }
   },
   "outputs": [],
   "source": [
    "%%HTML\n",
    "<span>This is a  <span style='color:red'>red </span> text.</span>"
   ]
  },
  {
   "cell_type": "markdown",
   "metadata": {},
   "source": [
    "### Combining terminal, python and ipython functionality"
   ]
  },
  {
   "cell_type": "code",
   "execution_count": null,
   "metadata": {
    "ExecuteTime": {
     "end_time": "2018-08-21T11:07:25.524795Z",
     "start_time": "2018-08-21T11:07:25.105332Z"
    }
   },
   "outputs": [],
   "source": [
    "from IPython.core.display import Image, display\n",
    "\n",
    "target = 'mgc.gif'\n",
    "!curl http://www.reactiongifs.com/r/mgc.gif > $target\n",
    "    \n",
    "display(Image(target))"
   ]
  },
  {
   "cell_type": "code",
   "execution_count": null,
   "metadata": {
    "ExecuteTime": {
     "end_time": "2018-08-21T11:10:51.083014Z",
     "start_time": "2018-08-21T11:10:51.033518Z"
    }
   },
   "outputs": [],
   "source": [
    "%%ruby\n",
    "ia= 10\n",
    "puts ia"
   ]
  },
  {
   "cell_type": "code",
   "execution_count": null,
   "metadata": {
    "ExecuteTime": {
     "end_time": "2018-08-21T11:10:46.292823Z",
     "start_time": "2018-08-21T11:10:46.241798Z"
    }
   },
   "outputs": [],
   "source": [
    "%%ruby\n",
    "puts ia"
   ]
  },
  {
   "cell_type": "markdown",
   "metadata": {},
   "source": [
    "## Basic Data Analysis"
   ]
  },
  {
   "cell_type": "code",
   "execution_count": null,
   "metadata": {
    "ExecuteTime": {
     "end_time": "2018-08-20T15:12:57.838091Z",
     "start_time": "2018-08-20T15:12:55.309137Z"
    }
   },
   "outputs": [],
   "source": [
    "!pip install pandas\n",
    "!pip install numpy"
   ]
  },
  {
   "cell_type": "code",
   "execution_count": null,
   "metadata": {
    "ExecuteTime": {
     "end_time": "2018-08-20T19:39:21.380057Z",
     "start_time": "2018-08-20T19:39:20.871712Z"
    }
   },
   "outputs": [],
   "source": [
    "import pandas as pd\n",
    "import numpy as np"
   ]
  },
  {
   "cell_type": "code",
   "execution_count": null,
   "metadata": {
    "ExecuteTime": {
     "end_time": "2018-08-20T19:39:22.070702Z",
     "start_time": "2018-08-20T19:39:21.382246Z"
    }
   },
   "outputs": [],
   "source": [
    "# read data\n",
    "df = pd.read_csv('https://raw.githubusercontent.com/wblakecannon/DataCamp/master/12-manipulating-dataframes-with-pandas/_datasets/gapminder_tidy.csv', sep=',')"
   ]
  },
  {
   "cell_type": "code",
   "execution_count": null,
   "metadata": {
    "ExecuteTime": {
     "end_time": "2018-08-20T19:39:22.094670Z",
     "start_time": "2018-08-20T19:39:22.072704Z"
    }
   },
   "outputs": [],
   "source": [
    "df.head(5)"
   ]
  },
  {
   "cell_type": "code",
   "execution_count": null,
   "metadata": {
    "ExecuteTime": {
     "end_time": "2018-08-20T18:43:16.377054Z",
     "start_time": "2018-08-20T18:43:16.368095Z"
    },
    "scrolled": true
   },
   "outputs": [],
   "source": [
    "df['Country'].value_counts()"
   ]
  },
  {
   "cell_type": "code",
   "execution_count": null,
   "metadata": {
    "ExecuteTime": {
     "end_time": "2018-08-20T18:43:23.013712Z",
     "start_time": "2018-08-20T18:43:22.941274Z"
    }
   },
   "outputs": [],
   "source": [
    "df.describe()"
   ]
  },
  {
   "cell_type": "code",
   "execution_count": null,
   "metadata": {
    "ExecuteTime": {
     "end_time": "2018-08-20T18:43:23.431131Z",
     "start_time": "2018-08-20T18:43:23.425955Z"
    }
   },
   "outputs": [],
   "source": [
    "df['Year'].max()"
   ]
  },
  {
   "cell_type": "code",
   "execution_count": null,
   "metadata": {
    "ExecuteTime": {
     "end_time": "2018-08-20T19:33:55.742875Z",
     "start_time": "2018-08-20T19:33:55.706926Z"
    }
   },
   "outputs": [],
   "source": [
    "df_2013 = df[df['Year'] == 2013]\n",
    "df_2013.head(10)"
   ]
  },
  {
   "cell_type": "code",
   "execution_count": null,
   "metadata": {
    "ExecuteTime": {
     "end_time": "2018-08-20T19:33:56.316023Z",
     "start_time": "2018-08-20T19:33:55.966781Z"
    }
   },
   "outputs": [],
   "source": [
    "df_2013['life'].hist(bins=50)"
   ]
  },
  {
   "cell_type": "code",
   "execution_count": null,
   "metadata": {
    "ExecuteTime": {
     "end_time": "2018-08-20T18:40:43.137677Z",
     "start_time": "2018-08-20T18:40:43.130705Z"
    }
   },
   "outputs": [],
   "source": [
    "%matplotlib inline"
   ]
  },
  {
   "cell_type": "code",
   "execution_count": null,
   "metadata": {
    "ExecuteTime": {
     "end_time": "2018-08-20T18:44:18.351700Z",
     "start_time": "2018-08-20T18:44:18.046514Z"
    }
   },
   "outputs": [],
   "source": [
    "df_2013['population'].hist(bins=100)"
   ]
  },
  {
   "cell_type": "code",
   "execution_count": null,
   "metadata": {
    "ExecuteTime": {
     "end_time": "2018-08-20T18:44:50.541463Z",
     "start_time": "2018-08-20T18:44:50.533990Z"
    }
   },
   "outputs": [],
   "source": [
    "df_albania = df[df['Country'] == 'Albania']"
   ]
  },
  {
   "cell_type": "code",
   "execution_count": null,
   "metadata": {
    "ExecuteTime": {
     "end_time": "2018-08-20T19:01:02.183067Z",
     "start_time": "2018-08-20T19:01:02.164964Z"
    }
   },
   "outputs": [],
   "source": [
    "df_albania.head(15)"
   ]
  },
  {
   "cell_type": "code",
   "execution_count": null,
   "metadata": {
    "ExecuteTime": {
     "end_time": "2018-08-20T18:47:50.986232Z",
     "start_time": "2018-08-20T18:47:50.765418Z"
    }
   },
   "outputs": [],
   "source": [
    "import matplotlib\n",
    "import matplotlib.pyplot as plt\n",
    "\n",
    "fig, ax = plt.subplots()\n",
    "ax.plot(df_albania['Year'], df_albania['population'])\n",
    "\n",
    "ax.set(xlabel='Year', ylabel='Total Population',\n",
    "       title='Population of Albania over time')\n",
    "ax.grid()\n",
    "\n",
    "fig.savefig(\"Albania.png\")\n",
    "\n"
   ]
  },
  {
   "cell_type": "code",
   "execution_count": null,
   "metadata": {},
   "outputs": [],
   "source": [
    "!pip install seaborn"
   ]
  },
  {
   "cell_type": "code",
   "execution_count": null,
   "metadata": {
    "ExecuteTime": {
     "end_time": "2018-08-20T18:50:47.794557Z",
     "start_time": "2018-08-20T18:50:47.309655Z"
    }
   },
   "outputs": [],
   "source": [
    "import seaborn as sns\n",
    "heat = sns.heatmap(df_2013.corr(), annot = True)\n",
    "heat.figure.set_size_inches(18, 10)"
   ]
  },
  {
   "cell_type": "code",
   "execution_count": null,
   "metadata": {
    "ExecuteTime": {
     "end_time": "2018-08-20T19:01:44.107560Z",
     "start_time": "2018-08-20T19:01:44.103956Z"
    }
   },
   "outputs": [],
   "source": [
    "df_2013 = df_2013.drop(columns=['Year'])"
   ]
  },
  {
   "cell_type": "code",
   "execution_count": null,
   "metadata": {
    "ExecuteTime": {
     "end_time": "2018-08-20T19:02:10.812650Z",
     "start_time": "2018-08-20T19:02:06.189009Z"
    },
    "scrolled": false
   },
   "outputs": [],
   "source": [
    "sns.pairplot(df_2013.dropna(), hue='region')"
   ]
  },
  {
   "cell_type": "code",
   "execution_count": null,
   "metadata": {},
   "outputs": [],
   "source": [
    "!pip install pivottablejs"
   ]
  },
  {
   "cell_type": "code",
   "execution_count": null,
   "metadata": {
    "ExecuteTime": {
     "end_time": "2018-08-20T19:33:39.274702Z",
     "start_time": "2018-08-20T19:33:39.269420Z"
    }
   },
   "outputs": [],
   "source": [
    "from pivottablejs import pivot_ui"
   ]
  },
  {
   "cell_type": "code",
   "execution_count": null,
   "metadata": {
    "ExecuteTime": {
     "end_time": "2018-08-20T19:36:01.997093Z",
     "start_time": "2018-08-20T19:36:01.989751Z"
    }
   },
   "outputs": [],
   "source": [
    "pivot_ui(df_2013)"
   ]
  },
  {
   "cell_type": "code",
   "execution_count": null,
   "metadata": {
    "ExecuteTime": {
     "end_time": "2018-08-20T19:39:14.568990Z",
     "start_time": "2018-08-20T19:39:14.473112Z"
    }
   },
   "outputs": [],
   "source": [
    "df"
   ]
  },
  {
   "cell_type": "markdown",
   "metadata": {
    "ExecuteTime": {
     "end_time": "2018-08-20T19:39:23.850610Z",
     "start_time": "2018-08-20T19:39:23.806439Z"
    }
   },
   "source": [
    "### Questions\n",
    "\n",
    "1. What was the median of the South Asian countries population in 1996?"
   ]
  },
  {
   "cell_type": "code",
   "execution_count": null,
   "metadata": {},
   "outputs": [],
   "source": []
  }
 ],
 "metadata": {
  "kernelspec": {
   "display_name": "Python 3",
   "language": "python",
   "name": "python3"
  },
  "language_info": {
   "codemirror_mode": {
    "name": "ipython",
    "version": 3
   },
   "file_extension": ".py",
   "mimetype": "text/x-python",
   "name": "python",
   "nbconvert_exporter": "python",
   "pygments_lexer": "ipython3",
   "version": "3.6.5"
  }
 },
 "nbformat": 4,
 "nbformat_minor": 2
}
